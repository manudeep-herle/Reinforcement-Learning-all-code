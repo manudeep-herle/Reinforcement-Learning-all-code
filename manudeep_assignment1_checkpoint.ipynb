{
  "nbformat": 4,
  "nbformat_minor": 0,
  "metadata": {
    "colab": {
      "provenance": []
    },
    "kernelspec": {
      "name": "python3",
      "display_name": "Python 3"
    },
    "language_info": {
      "name": "python"
    }
  },
  "cells": [
    {
      "cell_type": "code",
      "execution_count": null,
      "metadata": {
        "id": "YVc30oPPlmoW",
        "colab": {
          "base_uri": "https://localhost:8080/"
        },
        "outputId": "2d4150cd-f64f-474a-94d5-72dff52d8e65"
      },
      "outputs": [
        {
          "output_type": "stream",
          "name": "stdout",
          "text": [
            "Looking in indexes: https://pypi.org/simple, https://us-python.pkg.dev/colab-wheels/public/simple/\n",
            "Requirement already satisfied: gymnasium in /usr/local/lib/python3.8/dist-packages (0.27.1)\n",
            "Requirement already satisfied: matplotlib in /usr/local/lib/python3.8/dist-packages (3.2.2)\n",
            "Requirement already satisfied: numpy in /usr/local/lib/python3.8/dist-packages (1.21.6)\n",
            "Requirement already satisfied: cloudpickle>=1.2.0 in /usr/local/lib/python3.8/dist-packages (from gymnasium) (2.2.1)\n",
            "Requirement already satisfied: jax-jumpy>=0.2.0 in /usr/local/lib/python3.8/dist-packages (from gymnasium) (0.2.0)\n",
            "Requirement already satisfied: gymnasium-notices>=0.0.1 in /usr/local/lib/python3.8/dist-packages (from gymnasium) (0.0.1)\n",
            "Requirement already satisfied: typing-extensions>=4.3.0 in /usr/local/lib/python3.8/dist-packages (from gymnasium) (4.4.0)\n",
            "Requirement already satisfied: importlib-metadata>=4.8.0 in /usr/local/lib/python3.8/dist-packages (from gymnasium) (6.0.0)\n",
            "Requirement already satisfied: kiwisolver>=1.0.1 in /usr/local/lib/python3.8/dist-packages (from matplotlib) (1.4.4)\n",
            "Requirement already satisfied: pyparsing!=2.0.4,!=2.1.2,!=2.1.6,>=2.0.1 in /usr/local/lib/python3.8/dist-packages (from matplotlib) (3.0.9)\n",
            "Requirement already satisfied: cycler>=0.10 in /usr/local/lib/python3.8/dist-packages (from matplotlib) (0.11.0)\n",
            "Requirement already satisfied: python-dateutil>=2.1 in /usr/local/lib/python3.8/dist-packages (from matplotlib) (2.8.2)\n",
            "Requirement already satisfied: zipp>=0.5 in /usr/local/lib/python3.8/dist-packages (from importlib-metadata>=4.8.0->gymnasium) (3.12.1)\n",
            "Requirement already satisfied: six>=1.5 in /usr/local/lib/python3.8/dist-packages (from python-dateutil>=2.1->matplotlib) (1.15.0)\n"
          ]
        }
      ],
      "source": [
        "!pip install gymnasium matplotlib numpy"
      ]
    },
    {
      "cell_type": "code",
      "source": [
        "from google.colab import widgets\n",
        "import gymnasium as gym\n",
        "from gymnasium import spaces\n",
        "import matplotlib.pyplot as plt\n",
        "import numpy as np\n",
        "import time\n",
        "from matplotlib.offsetbox import (TextArea, DrawingArea, OffsetImage,\n",
        "                                  AnnotationBbox)"
      ],
      "metadata": {
        "id": "BYzkvzsilo9c"
      },
      "execution_count": null,
      "outputs": []
    },
    {
      "cell_type": "code",
      "source": [
        "class GridEnvironment(gym.Env):\n",
        "    metadata = { 'render.modes': [\"human\", \"rgb_array\"] }\n",
        "    \n",
        "    def __init__(self):\n",
        "\n",
        "\n",
        "        # Maximum steps before we end the episode \n",
        "        self.max_timesteps = 12\n",
        "        # Init timestep to 0\n",
        "        self.timestep = 0\n",
        "\n",
        "        self.environment_height, self.environment_width = 4,4\n",
        "        # How much of the environment is visible to the agent\n",
        "        self.observation_space = spaces.Discrete(self.environment_height * self.environment_width)\n",
        "        # No of directions the agent can move in\n",
        "        self.action_space = spaces.Discrete(4)\n",
        "\n",
        "        # Agent starts at the first box\n",
        "        self.agent_pos = np.asarray([0, 0])\n",
        "        # Terminal position is bottom right square\n",
        "        self.goal_pos = np.asarray([3, 3])\n",
        "        self.reward_pos = np.asarray([[1,1],[1,3]])\n",
        "        self.regret_pos = np.asarray([[3,1],[1,2]])\n",
        "        self.reward_quantity = 2\n",
        "\n",
        "\n",
        "    def reset(self, **kwargs):\n",
        "        # Reset timesteps\n",
        "        self.timestep = 0\n",
        "        self.reward_pos = np.asarray([[1,1],[1,3]])\n",
        "        self.agent_pos = np.asarray([0, 0])\n",
        "        # TODO: Am I sending the right observation back?\n",
        "        observation = 0\n",
        "        # What's the point of info?\n",
        "        info = {}\n",
        "        print(\"OBSERVATION IN RESET:\\n\",observation)\n",
        "        return observation, info\n",
        "    \n",
        "    def step(self, action, prob):\n",
        "        print(\"ACTION TAKEN\", action)\n",
        "        rand = np.random.random()\n",
        "        # if prob is not 1, then there's a 1-prob chance of picking a random action\n",
        "        if rand > prob:\n",
        "          # Generate a number between 0 and action_space(8)\n",
        "          old_action = action\n",
        "          action = np.random.randint(0, self.action_space.n)\n",
        "          print(\"ACTION INTENDED VS TAKEN\", old_action, action)\n",
        "\n",
        "        # 4 possible actions in all directions\n",
        "        if action == 0:\n",
        "          # Move right\n",
        "          self.agent_pos[1] += 1\n",
        "        if action == 1:\n",
        "          # Move down\n",
        "          self.agent_pos[0] += 1\n",
        "        if action == 2:\n",
        "          # Move left\n",
        "          self.agent_pos[1] -= 1\n",
        "        if action == 3:\n",
        "          # Move up\n",
        "          self.agent_pos[0] -= 1\n",
        "    \n",
        "\n",
        "        # Comment this to demonstrate the truncation condition.\n",
        "        # TODO: Make this wrap-around\n",
        "        self.agent_pos = np.clip(self.agent_pos, 0, 3)\n",
        "\n",
        "        observation = self.agent_pos[0] * 4 + self.agent_pos[1]\n",
        "        \n",
        "        reward = 0\n",
        "\n",
        "        terminated = False\n",
        "        # If the agent reached the goal, reward is 10 and terminated is true.\n",
        "        if np.array_equal(self.agent_pos, self.goal_pos):\n",
        "          reward = 10\n",
        "          terminated = True\n",
        "\n",
        "        # Else if it reaches a trap\n",
        "        elif  any(np.array_equal(self.regret_pos[i], self.agent_pos) for i in range(len(self.regret_pos))):\n",
        "          reward = -5\n",
        "        # Else if it reaches the reward\n",
        "        else:\n",
        "          for i in range(len(self.reward_pos)):\n",
        "            if np.array_equal(self.agent_pos, self.reward_pos[i]):\n",
        "              self.reward_pos = np.delete(self.reward_pos, i, axis=0)\n",
        "              reward = 3\n",
        "              break\n",
        "\n",
        "        # Increment timestep\n",
        "        self.timestep += 1\n",
        "\n",
        "        terminated = True if self.timestep >= self.max_timesteps else terminated\n",
        "        truncated = True if np.all((self.agent_pos >=0 ) & (self.agent_pos <= 3)) else False\n",
        "\n",
        "        info = {}\n",
        "        \n",
        "        return observation, reward, terminated, truncated, info\n",
        "        \n",
        "    def render(self):\n",
        "        # first of all, the base transformation of the data points is needed\n",
        "        fig, ax = plt.subplots(figsize=(12,12))\n",
        "        ax.set_xlim(0,self.environment_width)\n",
        "        ax.set_ylim(0,self.environment_height)\n",
        "        print(\"CURRENT AGENT POSITION\", self.agent_pos)\n",
        "        def plot_image(plot_pos):\n",
        "          plot_agent, plot_reward, plot_goal, plot_regret = False, False, False, False\n",
        "\n",
        "          # Figuring out what to plot\n",
        "          if np.array_equal(self.agent_pos, plot_pos):\n",
        "            plot_agent = True\n",
        "          if self.reward_quantity > 0:\n",
        "            if any(np.array_equal(self.reward_pos[i], plot_pos) for i in range(len(self.reward_pos))):\n",
        "              plot_reward = True\n",
        "          if any(np.array_equal(self.regret_pos[i], plot_pos) for i in range(len(self.regret_pos))):\n",
        "            plot_regret = True\n",
        "          if np.array_equal(self.goal_pos, plot_pos):\n",
        "            plot_goal = True\n",
        "          \n",
        "          # # Actually plotting\n",
        "          if plot_agent and plot_regret:\n",
        "            mouseintrap = AnnotationBbox(OffsetImage(plt.imread('./mouseandtrap.jpg'), zoom=.8),\n",
        "            np.add(plot_pos, [0.5, 0.5]), frameon=False)\n",
        "            ax.add_artist(mouseintrap)\n",
        "          elif plot_agent and plot_reward:\n",
        "            mousewithcheese = AnnotationBbox(OffsetImage(plt.imread('./mouseandcheese.jpg'), zoom=1),\n",
        "            np.add(plot_pos, [0.5, 0.5]), frameon=False)\n",
        "            ax.add_artist(mousewithcheese)  \n",
        "          elif plot_agent and plot_goal:\n",
        "            agentatgoal = AnnotationBbox(OffsetImage(plt.imread('./mouseandgold.jpg'), zoom=.8),\n",
        "            np.add(plot_pos, [0.5, 0.5]), frameon=False)\n",
        "            ax.add_artist(agentatgoal)  \n",
        "          elif plot_agent:\n",
        "            agent = AnnotationBbox(OffsetImage(plt.imread('./mouse.jpg'), zoom=0.3),\n",
        "                                    np.add(plot_pos, [0.5, 0.5]), frameon=False)\n",
        "            ax.add_artist(agent)\n",
        "          elif plot_regret:\n",
        "            regret = AnnotationBbox(OffsetImage(plt.imread('./mousetrap.jpg'), zoom=1),\n",
        "                                    np.add(plot_pos, [0.5, 0.5]), frameon=False)\n",
        "            ax.add_artist(regret)\n",
        "          elif plot_reward:\n",
        "            reward = AnnotationBbox(OffsetImage(plt.imread('./cheese.jpg'), zoom=0.5),\n",
        "                                    np.add(plot_pos, [0.5, 0.5]), frameon=False)\n",
        "            ax.add_artist(reward)  \n",
        "          elif plot_goal:\n",
        "            goal = AnnotationBbox(OffsetImage(plt.imread('./gold.jpg'), zoom=1.2),\n",
        "                                    np.add(plot_pos, [0.5, 0.5]), frameon=False)\n",
        "            ax.add_artist(goal)                                    \n",
        "\n",
        "          \n",
        "\n",
        "\n",
        "        \n",
        "        # Don't know what this is for\n",
        "        coordinates_state_mapping = {}\n",
        "        for j in range(self.environment_height * self.environment_width): # j iterates 16 times (0 - 15)\n",
        "          coordinates_state_mapping[j] = np.asarray([j % self.environment_width, int(np.floor(j/ self.environment_width))])\n",
        "\n",
        "        for position in coordinates_state_mapping:\n",
        "          plot_image(coordinates_state_mapping[position])\n",
        "\n",
        "        plt.xticks([0,1,2,3])\n",
        "        plt.yticks([0,1,2,3])\n",
        "        plt.grid()\n",
        "        plt.show()\n",
        "\n",
        "\n",
        "        # plt.imshow(self.state)"
      ],
      "metadata": {
        "id": "4511B7RzmDQb"
      },
      "execution_count": null,
      "outputs": []
    },
    {
      "cell_type": "code",
      "source": [
        "class RandomAgent:\n",
        "  def __init__(self, env):\n",
        "    self.env = env\n",
        "    self.observation_space = env.observation_space\n",
        "    self.action_space = env.action_space\n",
        "\n",
        "  def step(self, obs):\n",
        "    # We are randomly picking an action out of the available actions(0-7)\n",
        "    return np.random.choice(self.action_space.n)"
      ],
      "metadata": {
        "id": "q_b19YKimWBb"
      },
      "execution_count": null,
      "outputs": []
    },
    {
      "cell_type": "code",
      "source": [
        "env = GridEnvironment()\n",
        "agent = RandomAgent(env)"
      ],
      "metadata": {
        "id": "VZJEslhdmawh"
      },
      "execution_count": null,
      "outputs": []
    },
    {
      "cell_type": "code",
      "source": [
        "obs, info = env.reset()\n",
        "terminated, truncated = False, False\n",
        "rewards = []\n",
        "# prob 1 for deterministic, anything else between [0-1) for stochastic\n",
        "prob = 1\n",
        "\n",
        "output_grid = widgets.Grid(1, 1)\n",
        "with output_grid.output_to(0, 0):\n",
        "  env.render()\n",
        "\n",
        "while not terminated:\n",
        "  action = agent.step(obs)\n",
        "  obs, reward, terminated, truncated, info = env.step(action, prob)\n",
        "  rewards.append(reward)\n",
        "  with output_grid.output_to(0, 0):\n",
        "    output_grid.clear_cell()\n",
        "    env.render()\n",
        "    print(\"REWARD, OBS: \\n\", reward, obs)\n",
        "    print(\"TOTAL REWARD: \\n\", rewards, terminated)\n",
        "  time.sleep(1)\n"
      ],
      "metadata": {
        "colab": {
          "base_uri": "https://localhost:8080/",
          "height": 1000
        },
        "id": "k_8R8WCwLy5R",
        "outputId": "f0d82d5b-72a4-49a4-c6dd-088ad53fe4c1"
      },
      "execution_count": null,
      "outputs": [
        {
          "output_type": "stream",
          "name": "stdout",
          "text": [
            "OBSERVATION IN RESET:\n",
            " 0\n"
          ]
        },
        {
          "output_type": "display_data",
          "data": {
            "text/plain": [
              "<IPython.core.display.HTML object>"
            ],
            "text/html": [
              "<style>\n",
              "       table#id28, #id28 > tbody > tr > th, #id28 > tbody > tr > td {\n",
              "         border: 1px solid lightgray;\n",
              "         border-collapse:collapse;\n",
              "         \n",
              "        }</style>"
            ]
          },
          "metadata": {}
        },
        {
          "output_type": "display_data",
          "data": {
            "text/plain": [
              "<IPython.core.display.HTML object>"
            ],
            "text/html": [
              "<table id=id28><tr><td id=id28-0-0></td></tr></table>"
            ]
          },
          "metadata": {}
        },
        {
          "output_type": "display_data",
          "data": {
            "text/plain": [
              "<IPython.core.display.Javascript object>"
            ],
            "application/javascript": [
              "window[\"1f7aaeb8-ae3e-11ed-8487-0242ac1c000c\"] = google.colab.output.getActiveOutputArea();\n",
              "//# sourceURL=js_4b29dd71c7"
            ]
          },
          "metadata": {}
        },
        {
          "output_type": "display_data",
          "data": {
            "text/plain": [
              "<IPython.core.display.Javascript object>"
            ],
            "application/javascript": [
              "window[\"1f7af8d2-ae3e-11ed-8487-0242ac1c000c\"] = document.querySelector(\"#id28-0-0\");\n",
              "//# sourceURL=js_acbb81647e"
            ]
          },
          "metadata": {}
        },
        {
          "output_type": "display_data",
          "data": {
            "text/plain": [
              "<IPython.core.display.Javascript object>"
            ],
            "application/javascript": [
              "window[\"1f7b4134-ae3e-11ed-8487-0242ac1c000c\"] = google.colab.output.setActiveOutputArea(window[\"1f7af8d2-ae3e-11ed-8487-0242ac1c000c\"]);\n",
              "//# sourceURL=js_7c15c75c0f"
            ]
          },
          "metadata": {}
        },
        {
          "output_type": "display_data",
          "data": {
            "text/plain": [
              "<IPython.core.display.Javascript object>"
            ],
            "application/javascript": [
              "window[\"1fac673c-ae3e-11ed-8487-0242ac1c000c\"] = google.colab.output.setActiveOutputArea(window[\"1f7aaeb8-ae3e-11ed-8487-0242ac1c000c\"]);\n",
              "//# sourceURL=js_db5da29a5e"
            ]
          },
          "metadata": {}
        },
        {
          "output_type": "stream",
          "name": "stdout",
          "text": [
            "ACTION TAKEN 2\n"
          ]
        },
        {
          "output_type": "display_data",
          "data": {
            "text/plain": [
              "<IPython.core.display.Javascript object>"
            ],
            "application/javascript": [
              "window[\"1faf2184-ae3e-11ed-8487-0242ac1c000c\"] = google.colab.output.getActiveOutputArea();\n",
              "//# sourceURL=js_a5596b9ff3"
            ]
          },
          "metadata": {}
        },
        {
          "output_type": "display_data",
          "data": {
            "text/plain": [
              "<IPython.core.display.Javascript object>"
            ],
            "application/javascript": [
              "window[\"1faf6aea-ae3e-11ed-8487-0242ac1c000c\"] = document.querySelector(\"#id28-0-0\");\n",
              "//# sourceURL=js_ad4a8a50a3"
            ]
          },
          "metadata": {}
        },
        {
          "output_type": "display_data",
          "data": {
            "text/plain": [
              "<IPython.core.display.Javascript object>"
            ],
            "application/javascript": [
              "window[\"1fafb996-ae3e-11ed-8487-0242ac1c000c\"] = google.colab.output.setActiveOutputArea(window[\"1faf6aea-ae3e-11ed-8487-0242ac1c000c\"]);\n",
              "//# sourceURL=js_e3e3cc1a01"
            ]
          },
          "metadata": {}
        },
        {
          "output_type": "display_data",
          "data": {
            "text/plain": [
              "<IPython.core.display.Javascript object>"
            ],
            "application/javascript": [
              "window[\"1fe616a8-ae3e-11ed-8487-0242ac1c000c\"] = google.colab.output.setActiveOutputArea(window[\"1faf2184-ae3e-11ed-8487-0242ac1c000c\"]);\n",
              "//# sourceURL=js_533476617f"
            ]
          },
          "metadata": {}
        },
        {
          "output_type": "stream",
          "name": "stdout",
          "text": [
            "ACTION TAKEN 3\n"
          ]
        },
        {
          "output_type": "display_data",
          "data": {
            "text/plain": [
              "<IPython.core.display.Javascript object>"
            ],
            "application/javascript": [
              "window[\"20817dd2-ae3e-11ed-8487-0242ac1c000c\"] = google.colab.output.getActiveOutputArea();\n",
              "//# sourceURL=js_50d7bec7f4"
            ]
          },
          "metadata": {}
        },
        {
          "output_type": "display_data",
          "data": {
            "text/plain": [
              "<IPython.core.display.Javascript object>"
            ],
            "application/javascript": [
              "window[\"2081d3ae-ae3e-11ed-8487-0242ac1c000c\"] = document.querySelector(\"#id28-0-0\");\n",
              "//# sourceURL=js_24f016825c"
            ]
          },
          "metadata": {}
        },
        {
          "output_type": "display_data",
          "data": {
            "text/plain": [
              "<IPython.core.display.Javascript object>"
            ],
            "application/javascript": [
              "window[\"20822976-ae3e-11ed-8487-0242ac1c000c\"] = google.colab.output.setActiveOutputArea(window[\"2081d3ae-ae3e-11ed-8487-0242ac1c000c\"]);\n",
              "//# sourceURL=js_dc87d5d0f2"
            ]
          },
          "metadata": {}
        },
        {
          "output_type": "display_data",
          "data": {
            "text/plain": [
              "<IPython.core.display.Javascript object>"
            ],
            "application/javascript": [
              "window[\"20ba7e2a-ae3e-11ed-8487-0242ac1c000c\"] = google.colab.output.setActiveOutputArea(window[\"20817dd2-ae3e-11ed-8487-0242ac1c000c\"]);\n",
              "//# sourceURL=js_b1fb4a30d4"
            ]
          },
          "metadata": {}
        },
        {
          "output_type": "stream",
          "name": "stdout",
          "text": [
            "ACTION TAKEN 1\n"
          ]
        },
        {
          "output_type": "display_data",
          "data": {
            "text/plain": [
              "<IPython.core.display.Javascript object>"
            ],
            "application/javascript": [
              "window[\"21560318-ae3e-11ed-8487-0242ac1c000c\"] = google.colab.output.getActiveOutputArea();\n",
              "//# sourceURL=js_c980a3f8ba"
            ]
          },
          "metadata": {}
        },
        {
          "output_type": "display_data",
          "data": {
            "text/plain": [
              "<IPython.core.display.Javascript object>"
            ],
            "application/javascript": [
              "window[\"21568158-ae3e-11ed-8487-0242ac1c000c\"] = document.querySelector(\"#id28-0-0\");\n",
              "//# sourceURL=js_cbafa06ddd"
            ]
          },
          "metadata": {}
        },
        {
          "output_type": "display_data",
          "data": {
            "text/plain": [
              "<IPython.core.display.Javascript object>"
            ],
            "application/javascript": [
              "window[\"2156d16c-ae3e-11ed-8487-0242ac1c000c\"] = google.colab.output.setActiveOutputArea(window[\"21568158-ae3e-11ed-8487-0242ac1c000c\"]);\n",
              "//# sourceURL=js_c2c5c32628"
            ]
          },
          "metadata": {}
        },
        {
          "output_type": "display_data",
          "data": {
            "text/plain": [
              "<IPython.core.display.Javascript object>"
            ],
            "application/javascript": [
              "window[\"217ee760-ae3e-11ed-8487-0242ac1c000c\"] = google.colab.output.setActiveOutputArea(window[\"21560318-ae3e-11ed-8487-0242ac1c000c\"]);\n",
              "//# sourceURL=js_0c342eda25"
            ]
          },
          "metadata": {}
        },
        {
          "output_type": "stream",
          "name": "stdout",
          "text": [
            "ACTION TAKEN 1\n"
          ]
        },
        {
          "output_type": "display_data",
          "data": {
            "text/plain": [
              "<IPython.core.display.Javascript object>"
            ],
            "application/javascript": [
              "window[\"22199a6c-ae3e-11ed-8487-0242ac1c000c\"] = google.colab.output.getActiveOutputArea();\n",
              "//# sourceURL=js_74ce8f96be"
            ]
          },
          "metadata": {}
        },
        {
          "output_type": "display_data",
          "data": {
            "text/plain": [
              "<IPython.core.display.Javascript object>"
            ],
            "application/javascript": [
              "window[\"2219e3f0-ae3e-11ed-8487-0242ac1c000c\"] = document.querySelector(\"#id28-0-0\");\n",
              "//# sourceURL=js_6b7f965e5d"
            ]
          },
          "metadata": {}
        },
        {
          "output_type": "display_data",
          "data": {
            "text/plain": [
              "<IPython.core.display.Javascript object>"
            ],
            "application/javascript": [
              "window[\"221a457a-ae3e-11ed-8487-0242ac1c000c\"] = google.colab.output.setActiveOutputArea(window[\"2219e3f0-ae3e-11ed-8487-0242ac1c000c\"]);\n",
              "//# sourceURL=js_4324cbc541"
            ]
          },
          "metadata": {}
        },
        {
          "output_type": "display_data",
          "data": {
            "text/plain": [
              "<IPython.core.display.Javascript object>"
            ],
            "application/javascript": [
              "window[\"223ef7c6-ae3e-11ed-8487-0242ac1c000c\"] = google.colab.output.setActiveOutputArea(window[\"22199a6c-ae3e-11ed-8487-0242ac1c000c\"]);\n",
              "//# sourceURL=js_536ace02b3"
            ]
          },
          "metadata": {}
        },
        {
          "output_type": "stream",
          "name": "stdout",
          "text": [
            "ACTION TAKEN 2\n"
          ]
        },
        {
          "output_type": "display_data",
          "data": {
            "text/plain": [
              "<IPython.core.display.Javascript object>"
            ],
            "application/javascript": [
              "window[\"22d9fb68-ae3e-11ed-8487-0242ac1c000c\"] = google.colab.output.getActiveOutputArea();\n",
              "//# sourceURL=js_12d2d1fe98"
            ]
          },
          "metadata": {}
        },
        {
          "output_type": "display_data",
          "data": {
            "text/plain": [
              "<IPython.core.display.Javascript object>"
            ],
            "application/javascript": [
              "window[\"22da45dc-ae3e-11ed-8487-0242ac1c000c\"] = document.querySelector(\"#id28-0-0\");\n",
              "//# sourceURL=js_15386792ea"
            ]
          },
          "metadata": {}
        },
        {
          "output_type": "display_data",
          "data": {
            "text/plain": [
              "<IPython.core.display.Javascript object>"
            ],
            "application/javascript": [
              "window[\"22da8da8-ae3e-11ed-8487-0242ac1c000c\"] = google.colab.output.setActiveOutputArea(window[\"22da45dc-ae3e-11ed-8487-0242ac1c000c\"]);\n",
              "//# sourceURL=js_29f1172156"
            ]
          },
          "metadata": {}
        },
        {
          "output_type": "display_data",
          "data": {
            "text/plain": [
              "<IPython.core.display.Javascript object>"
            ],
            "application/javascript": [
              "window[\"2300efc0-ae3e-11ed-8487-0242ac1c000c\"] = google.colab.output.setActiveOutputArea(window[\"22d9fb68-ae3e-11ed-8487-0242ac1c000c\"]);\n",
              "//# sourceURL=js_8addd7b9c3"
            ]
          },
          "metadata": {}
        },
        {
          "output_type": "stream",
          "name": "stdout",
          "text": [
            "ACTION TAKEN 3\n"
          ]
        },
        {
          "output_type": "display_data",
          "data": {
            "text/plain": [
              "<IPython.core.display.Javascript object>"
            ],
            "application/javascript": [
              "window[\"239ca4b0-ae3e-11ed-8487-0242ac1c000c\"] = google.colab.output.getActiveOutputArea();\n",
              "//# sourceURL=js_9f6364e35a"
            ]
          },
          "metadata": {}
        },
        {
          "output_type": "display_data",
          "data": {
            "text/plain": [
              "<IPython.core.display.Javascript object>"
            ],
            "application/javascript": [
              "window[\"239cf1a4-ae3e-11ed-8487-0242ac1c000c\"] = document.querySelector(\"#id28-0-0\");\n",
              "//# sourceURL=js_3f77bb2867"
            ]
          },
          "metadata": {}
        },
        {
          "output_type": "display_data",
          "data": {
            "text/plain": [
              "<IPython.core.display.Javascript object>"
            ],
            "application/javascript": [
              "window[\"239d4af0-ae3e-11ed-8487-0242ac1c000c\"] = google.colab.output.setActiveOutputArea(window[\"239cf1a4-ae3e-11ed-8487-0242ac1c000c\"]);\n",
              "//# sourceURL=js_65575ab159"
            ]
          },
          "metadata": {}
        },
        {
          "output_type": "display_data",
          "data": {
            "text/plain": [
              "<IPython.core.display.Javascript object>"
            ],
            "application/javascript": [
              "window[\"23c2dd2e-ae3e-11ed-8487-0242ac1c000c\"] = google.colab.output.setActiveOutputArea(window[\"239ca4b0-ae3e-11ed-8487-0242ac1c000c\"]);\n",
              "//# sourceURL=js_21a331d28d"
            ]
          },
          "metadata": {}
        },
        {
          "output_type": "stream",
          "name": "stdout",
          "text": [
            "ACTION TAKEN 0\n"
          ]
        },
        {
          "output_type": "display_data",
          "data": {
            "text/plain": [
              "<IPython.core.display.Javascript object>"
            ],
            "application/javascript": [
              "window[\"245e99b2-ae3e-11ed-8487-0242ac1c000c\"] = google.colab.output.getActiveOutputArea();\n",
              "//# sourceURL=js_61e2052453"
            ]
          },
          "metadata": {}
        },
        {
          "output_type": "display_data",
          "data": {
            "text/plain": [
              "<IPython.core.display.Javascript object>"
            ],
            "application/javascript": [
              "window[\"245ee1c4-ae3e-11ed-8487-0242ac1c000c\"] = document.querySelector(\"#id28-0-0\");\n",
              "//# sourceURL=js_bf04b40c43"
            ]
          },
          "metadata": {}
        },
        {
          "output_type": "display_data",
          "data": {
            "text/plain": [
              "<IPython.core.display.Javascript object>"
            ],
            "application/javascript": [
              "window[\"245f290e-ae3e-11ed-8487-0242ac1c000c\"] = google.colab.output.setActiveOutputArea(window[\"245ee1c4-ae3e-11ed-8487-0242ac1c000c\"]);\n",
              "//# sourceURL=js_5b87c56304"
            ]
          },
          "metadata": {}
        },
        {
          "output_type": "display_data",
          "data": {
            "text/plain": [
              "<IPython.core.display.Javascript object>"
            ],
            "application/javascript": [
              "window[\"248544ae-ae3e-11ed-8487-0242ac1c000c\"] = google.colab.output.setActiveOutputArea(window[\"245e99b2-ae3e-11ed-8487-0242ac1c000c\"]);\n",
              "//# sourceURL=js_e21a6856ba"
            ]
          },
          "metadata": {}
        },
        {
          "output_type": "stream",
          "name": "stdout",
          "text": [
            "ACTION TAKEN 1\n"
          ]
        },
        {
          "output_type": "display_data",
          "data": {
            "text/plain": [
              "<IPython.core.display.Javascript object>"
            ],
            "application/javascript": [
              "window[\"2520139e-ae3e-11ed-8487-0242ac1c000c\"] = google.colab.output.getActiveOutputArea();\n",
              "//# sourceURL=js_b1ab83b82c"
            ]
          },
          "metadata": {}
        },
        {
          "output_type": "display_data",
          "data": {
            "text/plain": [
              "<IPython.core.display.Javascript object>"
            ],
            "application/javascript": [
              "window[\"2520640c-ae3e-11ed-8487-0242ac1c000c\"] = document.querySelector(\"#id28-0-0\");\n",
              "//# sourceURL=js_6f98dbbb88"
            ]
          },
          "metadata": {}
        },
        {
          "output_type": "display_data",
          "data": {
            "text/plain": [
              "<IPython.core.display.Javascript object>"
            ],
            "application/javascript": [
              "window[\"2520bce0-ae3e-11ed-8487-0242ac1c000c\"] = google.colab.output.setActiveOutputArea(window[\"2520640c-ae3e-11ed-8487-0242ac1c000c\"]);\n",
              "//# sourceURL=js_265d47259a"
            ]
          },
          "metadata": {}
        },
        {
          "output_type": "display_data",
          "data": {
            "text/plain": [
              "<IPython.core.display.Javascript object>"
            ],
            "application/javascript": [
              "window[\"25441f6e-ae3e-11ed-8487-0242ac1c000c\"] = google.colab.output.setActiveOutputArea(window[\"2520139e-ae3e-11ed-8487-0242ac1c000c\"]);\n",
              "//# sourceURL=js_4e36839b41"
            ]
          },
          "metadata": {}
        },
        {
          "output_type": "stream",
          "name": "stdout",
          "text": [
            "ACTION TAKEN 1\n"
          ]
        },
        {
          "output_type": "display_data",
          "data": {
            "text/plain": [
              "<IPython.core.display.Javascript object>"
            ],
            "application/javascript": [
              "window[\"25df04fc-ae3e-11ed-8487-0242ac1c000c\"] = google.colab.output.getActiveOutputArea();\n",
              "//# sourceURL=js_739f14bccd"
            ]
          },
          "metadata": {}
        },
        {
          "output_type": "display_data",
          "data": {
            "text/plain": [
              "<IPython.core.display.Javascript object>"
            ],
            "application/javascript": [
              "window[\"25df5272-ae3e-11ed-8487-0242ac1c000c\"] = document.querySelector(\"#id28-0-0\");\n",
              "//# sourceURL=js_796ed8a80f"
            ]
          },
          "metadata": {}
        },
        {
          "output_type": "display_data",
          "data": {
            "text/plain": [
              "<IPython.core.display.Javascript object>"
            ],
            "application/javascript": [
              "window[\"25dfbf6e-ae3e-11ed-8487-0242ac1c000c\"] = google.colab.output.setActiveOutputArea(window[\"25df5272-ae3e-11ed-8487-0242ac1c000c\"]);\n",
              "//# sourceURL=js_8859b33914"
            ]
          },
          "metadata": {}
        },
        {
          "output_type": "display_data",
          "data": {
            "text/plain": [
              "<IPython.core.display.Javascript object>"
            ],
            "application/javascript": [
              "window[\"2602009c-ae3e-11ed-8487-0242ac1c000c\"] = google.colab.output.setActiveOutputArea(window[\"25df04fc-ae3e-11ed-8487-0242ac1c000c\"]);\n",
              "//# sourceURL=js_df97af99d3"
            ]
          },
          "metadata": {}
        },
        {
          "output_type": "stream",
          "name": "stdout",
          "text": [
            "ACTION TAKEN 0\n"
          ]
        },
        {
          "output_type": "display_data",
          "data": {
            "text/plain": [
              "<IPython.core.display.Javascript object>"
            ],
            "application/javascript": [
              "window[\"269edd90-ae3e-11ed-8487-0242ac1c000c\"] = google.colab.output.getActiveOutputArea();\n",
              "//# sourceURL=js_e5aba69719"
            ]
          },
          "metadata": {}
        },
        {
          "output_type": "display_data",
          "data": {
            "text/plain": [
              "<IPython.core.display.Javascript object>"
            ],
            "application/javascript": [
              "window[\"269f31fa-ae3e-11ed-8487-0242ac1c000c\"] = document.querySelector(\"#id28-0-0\");\n",
              "//# sourceURL=js_72fac275c3"
            ]
          },
          "metadata": {}
        },
        {
          "output_type": "display_data",
          "data": {
            "text/plain": [
              "<IPython.core.display.Javascript object>"
            ],
            "application/javascript": [
              "window[\"269fa568-ae3e-11ed-8487-0242ac1c000c\"] = google.colab.output.setActiveOutputArea(window[\"269f31fa-ae3e-11ed-8487-0242ac1c000c\"]);\n",
              "//# sourceURL=js_2055d91869"
            ]
          },
          "metadata": {}
        },
        {
          "output_type": "display_data",
          "data": {
            "text/plain": [
              "<IPython.core.display.Javascript object>"
            ],
            "application/javascript": [
              "window[\"26c2a9dc-ae3e-11ed-8487-0242ac1c000c\"] = google.colab.output.setActiveOutputArea(window[\"269edd90-ae3e-11ed-8487-0242ac1c000c\"]);\n",
              "//# sourceURL=js_f59093daae"
            ]
          },
          "metadata": {}
        },
        {
          "output_type": "stream",
          "name": "stdout",
          "text": [
            "ACTION TAKEN 1\n"
          ]
        },
        {
          "output_type": "display_data",
          "data": {
            "text/plain": [
              "<IPython.core.display.Javascript object>"
            ],
            "application/javascript": [
              "window[\"275e0972-ae3e-11ed-8487-0242ac1c000c\"] = google.colab.output.getActiveOutputArea();\n",
              "//# sourceURL=js_d47e13951d"
            ]
          },
          "metadata": {}
        },
        {
          "output_type": "display_data",
          "data": {
            "text/plain": [
              "<IPython.core.display.Javascript object>"
            ],
            "application/javascript": [
              "window[\"275eb566-ae3e-11ed-8487-0242ac1c000c\"] = document.querySelector(\"#id28-0-0\");\n",
              "//# sourceURL=js_4a3c60a805"
            ]
          },
          "metadata": {}
        },
        {
          "output_type": "display_data",
          "data": {
            "text/plain": [
              "<IPython.core.display.Javascript object>"
            ],
            "application/javascript": [
              "window[\"275f057a-ae3e-11ed-8487-0242ac1c000c\"] = google.colab.output.setActiveOutputArea(window[\"275eb566-ae3e-11ed-8487-0242ac1c000c\"]);\n",
              "//# sourceURL=js_d2d07d47e3"
            ]
          },
          "metadata": {}
        },
        {
          "output_type": "display_data",
          "data": {
            "text/plain": [
              "<IPython.core.display.Javascript object>"
            ],
            "application/javascript": [
              "window[\"279724e6-ae3e-11ed-8487-0242ac1c000c\"] = google.colab.output.setActiveOutputArea(window[\"275e0972-ae3e-11ed-8487-0242ac1c000c\"]);\n",
              "//# sourceURL=js_15a526e9d2"
            ]
          },
          "metadata": {}
        },
        {
          "output_type": "stream",
          "name": "stdout",
          "text": [
            "ACTION TAKEN 2\n"
          ]
        },
        {
          "output_type": "display_data",
          "data": {
            "text/plain": [
              "<IPython.core.display.Javascript object>"
            ],
            "application/javascript": [
              "window[\"2832207c-ae3e-11ed-8487-0242ac1c000c\"] = google.colab.output.getActiveOutputArea();\n",
              "//# sourceURL=js_79c9bb9619"
            ]
          },
          "metadata": {}
        },
        {
          "output_type": "display_data",
          "data": {
            "text/plain": [
              "<IPython.core.display.Javascript object>"
            ],
            "application/javascript": [
              "window[\"28334808-ae3e-11ed-8487-0242ac1c000c\"] = document.querySelector(\"#id28-0-0\");\n",
              "//# sourceURL=js_3152c8f333"
            ]
          },
          "metadata": {}
        },
        {
          "output_type": "display_data",
          "data": {
            "text/plain": [
              "<IPython.core.display.Javascript object>"
            ],
            "application/javascript": [
              "window[\"2833a384-ae3e-11ed-8487-0242ac1c000c\"] = google.colab.output.setActiveOutputArea(window[\"28334808-ae3e-11ed-8487-0242ac1c000c\"]);\n",
              "//# sourceURL=js_cf7da1e8b4"
            ]
          },
          "metadata": {}
        },
        {
          "output_type": "stream",
          "name": "stdout",
          "text": [
            "CURRENT AGENT POSITION [3 1]\n"
          ]
        },
        {
          "output_type": "display_data",
          "data": {
            "text/plain": [
              "<Figure size 864x864 with 1 Axes>"
            ],
            "image/png": "[encoded data removed]"
          },
          "metadata": {
            "needs_background": "light"
          }
        },
        {
          "output_type": "stream",
          "name": "stdout",
          "text": [
            "REWARD, OBS: \n",
            " -5 13\n",
            "TOTAL REWARD: \n",
            " [0, 0, 0, 0, 0, 0, 3, 0, -5, 0, 0, -5] True\n"
          ]
        },
        {
          "output_type": "display_data",
          "data": {
            "text/plain": [
              "<IPython.core.display.Javascript object>"
            ],
            "application/javascript": [
              "window[\"285452c8-ae3e-11ed-8487-0242ac1c000c\"] = google.colab.output.setActiveOutputArea(window[\"2832207c-ae3e-11ed-8487-0242ac1c000c\"]);\n",
              "//# sourceURL=js_b0d9389f71"
            ]
          },
          "metadata": {}
        }
      ]
    },
    {
      "cell_type": "code",
      "source": [
        " \n",
        "\n",
        "x = spaces.Discrete(8)\n"
      ],
      "metadata": {
        "id": "wQ5IZQPYMlIG"
      },
      "execution_count": null,
      "outputs": []
    },
    {
      "cell_type": "code",
      "source": [
        "x.n"
      ],
      "metadata": {
        "colab": {
          "base_uri": "https://localhost:8080/"
        },
        "id": "Jbc9cMIN5kk7",
        "outputId": "a0a5bc16-30dc-4b27-9519-8763cf205a49"
      },
      "execution_count": null,
      "outputs": [
        {
          "output_type": "execute_result",
          "data": {
            "text/plain": [
              "8"
            ]
          },
          "metadata": {},
          "execution_count": 32
        }
      ]
    },
    {
      "cell_type": "code",
      "source": [
        "# Images from\n",
        "#All of these are free for non-commercial use\n",
        "https://lovepik.com/images/png-animal.html \n",
        "https://www.cleanpng.com/png-mousetrap-trapping-clip-art-mouse-trap-646405/download-png.html\n",
        "http://clipart-library.com/img/1734718.gif\n"
      ],
      "metadata": {
        "id": "O-vECd9s7UHd"
      },
      "execution_count": null,
      "outputs": []
    },
    {
      "cell_type": "code",
      "source": [],
      "metadata": {
        "id": "EA_t9noGli_Y"
      },
      "execution_count": null,
      "outputs": []
    }
  ]
}