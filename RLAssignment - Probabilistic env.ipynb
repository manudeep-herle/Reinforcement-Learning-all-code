{
  "nbformat": 4,
  "nbformat_minor": 0,
  "metadata": {
    "colab": {
      "provenance": []
    },
    "kernelspec": {
      "name": "python3",
      "display_name": "Python 3"
    },
    "language_info": {
      "name": "python"
    }
  },
  "cells": [
    {
      "cell_type": "code",
      "execution_count": 1,
      "metadata": {
        "colab": {
          "base_uri": "https://localhost:8080/"
        },
        "id": "YVc30oPPlmoW",
        "outputId": "7e6689ee-2700-4dff-96b8-90cf4f75b09d"
      },
      "outputs": [
        {
          "output_type": "stream",
          "name": "stdout",
          "text": [
            "Installing collected packages: gymnasium-notices, jax-jumpy, gymnasium\n",
            "Successfully installed gymnasium-0.27.1 gymnasium-notices-0.0.1 jax-jumpy-0.2.0\n"
          ]
        }
      ],
      "source": [
        "!pip install gymnasium matplotlib numpy"
      ]
    },
    {
      "cell_type": "code",
      "source": [
        "from google.colab import widgets\n",
        "import gymnasium as gym\n",
        "from gymnasium import spaces\n",
        "import matplotlib.pyplot as plt\n",
        "import numpy as np\n",
        "import time"
      ],
      "metadata": {
        "id": "BYzkvzsilo9c"
      },
      "execution_count": 48,
      "outputs": []
    },
    {
      "cell_type": "code",
      "source": [
        "output_grid = widgets.Grid(1, 1)\n",
        "# On each iteration, a different cell is lit up\n",
        "for i in range(5):\n",
        "  # 3 by 3 grid of zeros\n",
        "  grid = np.zeros((4, 4))\n",
        "  # One box in random has value 1\n",
        "  grid[np.random.randint(4), np.random.randint(4)] = 1\n",
        "\n",
        "  with output_grid.output_to(0, 0):\n",
        "    output_grid.clear_cell()\n",
        "    print(grid)\n",
        "    plt.imshow(grid)\n",
        "  time.sleep(1)"
      ],
      "metadata": {
        "colab": {
          "base_uri": "https://localhost:8080/",
          "height": 342
        },
        "id": "IHPtBN86lwzW",
        "outputId": "a56b0fab-c50d-4f3a-fe72-f8923341a48a"
      },
      "execution_count": 49,
      "outputs": [
        {
          "output_type": "display_data",
          "data": {
            "text/plain": [
              "<IPython.core.display.HTML object>"
            ],
            "text/html": [
              "<style>\n",
              "       table#id24, #id24 > tbody > tr > th, #id24 > tbody > tr > td {\n",
              "         border: 1px solid lightgray;\n",
              "         border-collapse:collapse;\n",
              "         \n",
              "        }</style>"
            ]
          },
          "metadata": {}
        },
        {
          "output_type": "display_data",
          "data": {
            "text/plain": [
              "<IPython.core.display.HTML object>"
            ],
            "text/html": [
              "<table id=id24><tr><td id=id24-0-0></td></tr></table>"
            ]
          },
          "metadata": {}
        },
        {
          "output_type": "display_data",
          "data": {
            "text/plain": [
              "<IPython.core.display.Javascript object>"
            ],
            "application/javascript": [
              "window[\"0bb1e000-ab2c-11ed-8356-0242ac1c000c\"] = google.colab.output.getActiveOutputArea();\n",
              "//# sourceURL=js_e9946b1e07"
            ]
          },
          "metadata": {}
        },
        {
          "output_type": "display_data",
          "data": {
            "text/plain": [
              "<IPython.core.display.Javascript object>"
            ],
            "application/javascript": [
              "window[\"0bb23866-ab2c-11ed-8356-0242ac1c000c\"] = document.querySelector(\"#id24-0-0\");\n",
              "//# sourceURL=js_99e1f81034"
            ]
          },
          "metadata": {}
        },
        {
          "output_type": "display_data",
          "data": {
            "text/plain": [
              "<IPython.core.display.Javascript object>"
            ],
            "application/javascript": [
              "window[\"0bb27b14-ab2c-11ed-8356-0242ac1c000c\"] = google.colab.output.setActiveOutputArea(window[\"0bb23866-ab2c-11ed-8356-0242ac1c000c\"]);\n",
              "//# sourceURL=js_c28f77fb24"
            ]
          },
          "metadata": {}
        },
        {
          "output_type": "display_data",
          "data": {
            "text/plain": [
              "<IPython.core.display.Javascript object>"
            ],
            "application/javascript": [
              "window[\"0bcc8342-ab2c-11ed-8356-0242ac1c000c\"] = google.colab.output.setActiveOutputArea(window[\"0bb1e000-ab2c-11ed-8356-0242ac1c000c\"]);\n",
              "//# sourceURL=js_d529f1ac7c"
            ]
          },
          "metadata": {}
        },
        {
          "output_type": "display_data",
          "data": {
            "text/plain": [
              "<IPython.core.display.Javascript object>"
            ],
            "application/javascript": [
              "window[\"0c687130-ab2c-11ed-8356-0242ac1c000c\"] = google.colab.output.getActiveOutputArea();\n",
              "//# sourceURL=js_8d5f3f0b65"
            ]
          },
          "metadata": {}
        },
        {
          "output_type": "display_data",
          "data": {
            "text/plain": [
              "<IPython.core.display.Javascript object>"
            ],
            "application/javascript": [
              "window[\"0c68c77a-ab2c-11ed-8356-0242ac1c000c\"] = document.querySelector(\"#id24-0-0\");\n",
              "//# sourceURL=js_4e2c973231"
            ]
          },
          "metadata": {}
        },
        {
          "output_type": "display_data",
          "data": {
            "text/plain": [
              "<IPython.core.display.Javascript object>"
            ],
            "application/javascript": [
              "window[\"0c692878-ab2c-11ed-8356-0242ac1c000c\"] = google.colab.output.setActiveOutputArea(window[\"0c68c77a-ab2c-11ed-8356-0242ac1c000c\"]);\n",
              "//# sourceURL=js_12a44a9bcf"
            ]
          },
          "metadata": {}
        },
        {
          "output_type": "display_data",
          "data": {
            "text/plain": [
              "<IPython.core.display.Javascript object>"
            ],
            "application/javascript": [
              "window[\"0c90fc2c-ab2c-11ed-8356-0242ac1c000c\"] = google.colab.output.setActiveOutputArea(window[\"0c687130-ab2c-11ed-8356-0242ac1c000c\"]);\n",
              "//# sourceURL=js_e4e65fc820"
            ]
          },
          "metadata": {}
        },
        {
          "output_type": "display_data",
          "data": {
            "text/plain": [
              "<IPython.core.display.Javascript object>"
            ],
            "application/javascript": [
              "window[\"0d2cff46-ab2c-11ed-8356-0242ac1c000c\"] = google.colab.output.getActiveOutputArea();\n",
              "//# sourceURL=js_bbd5d4a179"
            ]
          },
          "metadata": {}
        },
        {
          "output_type": "display_data",
          "data": {
            "text/plain": [
              "<IPython.core.display.Javascript object>"
            ],
            "application/javascript": [
              "window[\"0d2d6422-ab2c-11ed-8356-0242ac1c000c\"] = document.querySelector(\"#id24-0-0\");\n",
              "//# sourceURL=js_f868bcf2d9"
            ]
          },
          "metadata": {}
        },
        {
          "output_type": "display_data",
          "data": {
            "text/plain": [
              "<IPython.core.display.Javascript object>"
            ],
            "application/javascript": [
              "window[\"0d2e114c-ab2c-11ed-8356-0242ac1c000c\"] = google.colab.output.setActiveOutputArea(window[\"0d2d6422-ab2c-11ed-8356-0242ac1c000c\"]);\n",
              "//# sourceURL=js_d03ed9f695"
            ]
          },
          "metadata": {}
        },
        {
          "output_type": "display_data",
          "data": {
            "text/plain": [
              "<IPython.core.display.Javascript object>"
            ],
            "application/javascript": [
              "window[\"0d5c2f32-ab2c-11ed-8356-0242ac1c000c\"] = google.colab.output.setActiveOutputArea(window[\"0d2cff46-ab2c-11ed-8356-0242ac1c000c\"]);\n",
              "//# sourceURL=js_1d274f056c"
            ]
          },
          "metadata": {}
        },
        {
          "output_type": "display_data",
          "data": {
            "text/plain": [
              "<IPython.core.display.Javascript object>"
            ],
            "application/javascript": [
              "window[\"0df86f96-ab2c-11ed-8356-0242ac1c000c\"] = google.colab.output.getActiveOutputArea();\n",
              "//# sourceURL=js_a7acf049a4"
            ]
          },
          "metadata": {}
        },
        {
          "output_type": "display_data",
          "data": {
            "text/plain": [
              "<IPython.core.display.Javascript object>"
            ],
            "application/javascript": [
              "window[\"0df8ca54-ab2c-11ed-8356-0242ac1c000c\"] = document.querySelector(\"#id24-0-0\");\n",
              "//# sourceURL=js_f7dbab358d"
            ]
          },
          "metadata": {}
        },
        {
          "output_type": "display_data",
          "data": {
            "text/plain": [
              "<IPython.core.display.Javascript object>"
            ],
            "application/javascript": [
              "window[\"0df9864c-ab2c-11ed-8356-0242ac1c000c\"] = google.colab.output.setActiveOutputArea(window[\"0df8ca54-ab2c-11ed-8356-0242ac1c000c\"]);\n",
              "//# sourceURL=js_8b8ad5c463"
            ]
          },
          "metadata": {}
        },
        {
          "output_type": "display_data",
          "data": {
            "text/plain": [
              "<IPython.core.display.Javascript object>"
            ],
            "application/javascript": [
              "window[\"0e141304-ab2c-11ed-8356-0242ac1c000c\"] = google.colab.output.setActiveOutputArea(window[\"0df86f96-ab2c-11ed-8356-0242ac1c000c\"]);\n",
              "//# sourceURL=js_a32beac017"
            ]
          },
          "metadata": {}
        },
        {
          "output_type": "display_data",
          "data": {
            "text/plain": [
              "<IPython.core.display.Javascript object>"
            ],
            "application/javascript": [
              "window[\"0eaf693a-ab2c-11ed-8356-0242ac1c000c\"] = google.colab.output.getActiveOutputArea();\n",
              "//# sourceURL=js_4cc7334d03"
            ]
          },
          "metadata": {}
        },
        {
          "output_type": "display_data",
          "data": {
            "text/plain": [
              "<IPython.core.display.Javascript object>"
            ],
            "application/javascript": [
              "window[\"0eafb840-ab2c-11ed-8356-0242ac1c000c\"] = document.querySelector(\"#id24-0-0\");\n",
              "//# sourceURL=js_229877aa9d"
            ]
          },
          "metadata": {}
        },
        {
          "output_type": "display_data",
          "data": {
            "text/plain": [
              "<IPython.core.display.Javascript object>"
            ],
            "application/javascript": [
              "window[\"0eb02410-ab2c-11ed-8356-0242ac1c000c\"] = google.colab.output.setActiveOutputArea(window[\"0eafb840-ab2c-11ed-8356-0242ac1c000c\"]);\n",
              "//# sourceURL=js_4f9b087a29"
            ]
          },
          "metadata": {}
        },
        {
          "output_type": "stream",
          "name": "stdout",
          "text": [
            "[[1. 0. 0. 0.]\n",
            " [0. 0. 0. 0.]\n",
            " [0. 0. 0. 0.]\n",
            " [0. 0. 0. 0.]]\n"
          ]
        },
        {
          "output_type": "display_data",
          "data": {
            "text/plain": [
              "<Figure size 432x288 with 1 Axes>"
            ],
            "image/png": "[encoded data removed]"
          },
          "metadata": {
            "needs_background": "light"
          }
        },
        {
          "output_type": "display_data",
          "data": {
            "text/plain": [
              "<IPython.core.display.Javascript object>"
            ],
            "application/javascript": [
              "window[\"0ec9689e-ab2c-11ed-8356-0242ac1c000c\"] = google.colab.output.setActiveOutputArea(window[\"0eaf693a-ab2c-11ed-8356-0242ac1c000c\"]);\n",
              "//# sourceURL=js_440496f41a"
            ]
          },
          "metadata": {}
        }
      ]
    },
    {
      "cell_type": "code",
      "source": [
        "x = print(spaces.Discrete(9))\n",
        "type(x)"
      ],
      "metadata": {
        "colab": {
          "base_uri": "https://localhost:8080/"
        },
        "id": "wzkOBMLF8W7s",
        "outputId": "89f63497-2f9f-4225-8843-4f182940f8d0"
      },
      "execution_count": 50,
      "outputs": [
        {
          "output_type": "stream",
          "name": "stdout",
          "text": [
            "Discrete(9)\n"
          ]
        },
        {
          "output_type": "execute_result",
          "data": {
            "text/plain": [
              "NoneType"
            ]
          },
          "metadata": {},
          "execution_count": 50
        }
      ]
    },
    {
      "cell_type": "code",
      "source": [
        "class GridEnvironment(gym.Env):\n",
        "    metadata = { 'render.modes': [] }\n",
        "    \n",
        "    def __init__(self):\n",
        "\n",
        "        # How much of the environment is visible to the agent\n",
        "        self.observation_space = spaces.Discrete(16)\n",
        "        # No of directions the agent can move in\n",
        "        self.action_space = spaces.Discrete(8)\n",
        "        # Maximum steps before we end the episode \n",
        "        self.max_timesteps = 12\n",
        "\n",
        "        # Init timestep to 0\n",
        "        self.timestep = 0\n",
        "        # Agent starts at the first box\n",
        "        self.agent_pos = [0, 0]\n",
        "        # Terminal position is bottom right square\n",
        "        self.goal_pos = [3, 3]\n",
        "        self.state = np.zeros((4,4))\n",
        "\n",
        "        # These two values just to show the agent's pos and terminal state in the plot\n",
        "        self.state[tuple(self.agent_pos)] = 1\n",
        "        self.state[tuple(self.goal_pos)] = 0.5\n",
        "\n",
        "        \n",
        "    def reset(self, **kwargs):\n",
        "        # Reset timesteps\n",
        "        self.timestep = 0\n",
        "        # Resetting the state\n",
        "        self.state = np.zeros((4,4))\n",
        "        # Note that I'm not resetting the position of the agent. Might be needed\n",
        "        self.state[tuple(self.agent_pos)] = 1\n",
        "        self.state[tuple(self.goal_pos)] = 0.5\n",
        "        # TODO: Am I sending the right observation back?\n",
        "        observation = self.state.flatten()\n",
        "        \n",
        "        # What's the point of info?\n",
        "        info = {}\n",
        "        print(\"OBSERVATION IN RESET:\\n\",observation)\n",
        "        return observation, info\n",
        "    \n",
        "    def step(self, action, prob):\n",
        "        rand = np.random.random()\n",
        "        # if prob is not 1, then there's a 1-prob chance of picking a random action\n",
        "        if rand > prob:\n",
        "          # Generate a number between 0 and action_space(8)\n",
        "          old_action = action\n",
        "          action = np.random.randint(0, self.action_space.n)\n",
        "          print(\"ACTION INTENDED VS TAKEN\", old_action, action)\n",
        "\n",
        "        # 8 possible actions in all directions\n",
        "        if action == 0:\n",
        "          # Move right\n",
        "          self.agent_pos[1] += 1\n",
        "        if action == 1:\n",
        "          # Move down-right\n",
        "          self.agent_pos[0] += 1\n",
        "          self.agent_pos[1] += 1\n",
        "        if action == 2:\n",
        "          # Move down\n",
        "          self.agent_pos[0] += 1\n",
        "        if action == 3:\n",
        "          # Move down-left\n",
        "          self.agent_pos[0] += 1\n",
        "          self.agent_pos[1] -= 1\n",
        "        if action == 4:\n",
        "          # Move left\n",
        "          self.agent_pos[1] -= 1\n",
        "        if action == 5:\n",
        "          # Move up-left\n",
        "          self.agent_pos[0] -= 1\n",
        "          self.agent_pos[1] -= 1\n",
        "        if action == 6:\n",
        "          # Move up\n",
        "          self.agent_pos[0] -= 1\n",
        "        if action == 7:\n",
        "          # Move up-right\n",
        "          self.agent_pos[0] -= 1\n",
        "          self.agent_pos[1] += 1\n",
        "\n",
        "        # Comment this to demonstrate the truncation condition.\n",
        "        # TODO: Make this wrap-around\n",
        "        self.agent_pos = np.clip(self.agent_pos, 0, 3)\n",
        "\n",
        "        self.state = np.zeros((4,4))\n",
        "        self.state[tuple(self.agent_pos)] = 1\n",
        "        self.state[tuple(self.goal_pos)] = 0.5\n",
        "        observation = self.state.flatten()\n",
        "        \n",
        "        reward = 0\n",
        "        # If the agent reached the goal, reward is 10\n",
        "        if np.array_equal(self.agent_pos, self.goal_pos):\n",
        "          reward = 10\n",
        "\n",
        "        # Increment timestep\n",
        "        self.timestep += 1\n",
        "\n",
        "        terminated = True if self.timestep >= self.max_timesteps else False\n",
        "        truncated = True if np.all((self.agent_pos >=0 ) & (self.agent_pos <= 3)) else False\n",
        "\n",
        "        info = {}\n",
        "        \n",
        "        return observation, reward, terminated, truncated, info\n",
        "        \n",
        "    def render(self):\n",
        "        print(\"RENDER STATE \\n\",self.state)\n",
        "        plt.imshow(self.state)"
      ],
      "metadata": {
        "id": "4511B7RzmDQb"
      },
      "execution_count": 62,
      "outputs": []
    },
    {
      "cell_type": "code",
      "source": [
        "class RandomAgent:\n",
        "  def __init__(self, env):\n",
        "    self.env = env\n",
        "    self.observation_space = env.observation_space\n",
        "    self.action_space = env.action_space\n",
        "\n",
        "  def step(self, obs):\n",
        "    # We are randomly picking an action out of the available actions(0-7)\n",
        "    return np.random.choice(self.action_space.n)"
      ],
      "metadata": {
        "id": "q_b19YKimWBb"
      },
      "execution_count": 63,
      "outputs": []
    },
    {
      "cell_type": "code",
      "source": [
        "env = GridEnvironment()\n",
        "agent = RandomAgent(env)\n",
        "agent.env.render()"
      ],
      "metadata": {
        "colab": {
          "base_uri": "https://localhost:8080/",
          "height": 356
        },
        "id": "VZJEslhdmawh",
        "outputId": "70ca8574-9909-4bce-80ff-87f8d794a8cf"
      },
      "execution_count": 64,
      "outputs": [
        {
          "output_type": "stream",
          "name": "stdout",
          "text": [
            "RENDER STATE \n",
            " [[1.  0.  0.  0. ]\n",
            " [0.  0.  0.  0. ]\n",
            " [0.  0.  0.  0. ]\n",
            " [0.  0.  0.  0.5]]\n"
          ]
        },
        {
          "output_type": "display_data",
          "data": {
            "text/plain": [
              "<Figure size 432x288 with 1 Axes>"
            ],
            "image/png": "[encoded data removed]"
          },
          "metadata": {
            "needs_background": "light"
          }
        }
      ]
    },
    {
      "cell_type": "code",
      "source": [
        "obs, info = env.reset()\n",
        "terminated, truncated = False, False\n",
        "rewards = []\n",
        "# prob 1 for deterministic, anything else between [0-1) for stochastic\n",
        "prob = 0.9\n",
        "\n",
        "output_grid = widgets.Grid(1, 1)\n",
        "with output_grid.output_to(0, 0):\n",
        "  env.render()\n",
        "\n",
        "while not terminated:\n",
        "  action = agent.step(obs)\n",
        "  obs, reward, terminated, truncated, info = env.step(action, prob)\n",
        "  rewards.append(reward)\n",
        "  with output_grid.output_to(0, 0):\n",
        "    output_grid.clear_cell()\n",
        "    env.render()\n",
        "    print(\"REWARD, OBS: \\n\", reward, obs)\n",
        "    print(\"TOTAL REWARD: \\n\", rewards, terminated)\n",
        "  time.sleep(2)\n"
      ],
      "metadata": {
        "colab": {
          "base_uri": "https://localhost:8080/",
          "height": 516
        },
        "id": "k_8R8WCwLy5R",
        "outputId": "42ee8cfc-c830-4051-b1e7-74cbb4ffd080"
      },
      "execution_count": 67,
      "outputs": [
        {
          "output_type": "stream",
          "name": "stdout",
          "text": [
            "OBSERVATION IN RESET:\n",
            " [0.  0.  0.  0.  0.  0.  0.  0.  1.  0.  0.  0.  0.  0.  0.  0.5]\n"
          ]
        },
        {
          "output_type": "display_data",
          "data": {
            "text/plain": [
              "<IPython.core.display.HTML object>"
            ],
            "text/html": [
              "<style>\n",
              "       table#id40, #id40 > tbody > tr > th, #id40 > tbody > tr > td {\n",
              "         border: 1px solid lightgray;\n",
              "         border-collapse:collapse;\n",
              "         \n",
              "        }</style>"
            ]
          },
          "metadata": {}
        },
        {
          "output_type": "display_data",
          "data": {
            "text/plain": [
              "<IPython.core.display.HTML object>"
            ],
            "text/html": [
              "<table id=id40><tr><td id=id40-0-0></td></tr></table>"
            ]
          },
          "metadata": {}
        },
        {
          "output_type": "display_data",
          "data": {
            "text/plain": [
              "<IPython.core.display.Javascript object>"
            ],
            "application/javascript": [
              "window[\"a1ff4adc-ab2e-11ed-8356-0242ac1c000c\"] = google.colab.output.getActiveOutputArea();\n",
              "//# sourceURL=js_27d6446bd5"
            ]
          },
          "metadata": {}
        },
        {
          "output_type": "display_data",
          "data": {
            "text/plain": [
              "<IPython.core.display.Javascript object>"
            ],
            "application/javascript": [
              "window[\"a1ffa3d8-ab2e-11ed-8356-0242ac1c000c\"] = document.querySelector(\"#id40-0-0\");\n",
              "//# sourceURL=js_036060b26f"
            ]
          },
          "metadata": {}
        },
        {
          "output_type": "display_data",
          "data": {
            "text/plain": [
              "<IPython.core.display.Javascript object>"
            ],
            "application/javascript": [
              "window[\"a1fffc70-ab2e-11ed-8356-0242ac1c000c\"] = google.colab.output.setActiveOutputArea(window[\"a1ffa3d8-ab2e-11ed-8356-0242ac1c000c\"]);\n",
              "//# sourceURL=js_168b2c546a"
            ]
          },
          "metadata": {}
        },
        {
          "output_type": "display_data",
          "data": {
            "text/plain": [
              "<IPython.core.display.Javascript object>"
            ],
            "application/javascript": [
              "window[\"a22711f2-ab2e-11ed-8356-0242ac1c000c\"] = google.colab.output.setActiveOutputArea(window[\"a1ff4adc-ab2e-11ed-8356-0242ac1c000c\"]);\n",
              "//# sourceURL=js_7dd6badc34"
            ]
          },
          "metadata": {}
        },
        {
          "output_type": "display_data",
          "data": {
            "text/plain": [
              "<IPython.core.display.Javascript object>"
            ],
            "application/javascript": [
              "window[\"a22b242c-ab2e-11ed-8356-0242ac1c000c\"] = google.colab.output.getActiveOutputArea();\n",
              "//# sourceURL=js_41d05af716"
            ]
          },
          "metadata": {}
        },
        {
          "output_type": "display_data",
          "data": {
            "text/plain": [
              "<IPython.core.display.Javascript object>"
            ],
            "application/javascript": [
              "window[\"a22b880e-ab2e-11ed-8356-0242ac1c000c\"] = document.querySelector(\"#id40-0-0\");\n",
              "//# sourceURL=js_8bd1a086fa"
            ]
          },
          "metadata": {}
        },
        {
          "output_type": "display_data",
          "data": {
            "text/plain": [
              "<IPython.core.display.Javascript object>"
            ],
            "application/javascript": [
              "window[\"a22c1c88-ab2e-11ed-8356-0242ac1c000c\"] = google.colab.output.setActiveOutputArea(window[\"a22b880e-ab2e-11ed-8356-0242ac1c000c\"]);\n",
              "//# sourceURL=js_48f811e929"
            ]
          },
          "metadata": {}
        },
        {
          "output_type": "display_data",
          "data": {
            "text/plain": [
              "<IPython.core.display.Javascript object>"
            ],
            "application/javascript": [
              "window[\"a250216e-ab2e-11ed-8356-0242ac1c000c\"] = google.colab.output.setActiveOutputArea(window[\"a22b242c-ab2e-11ed-8356-0242ac1c000c\"]);\n",
              "//# sourceURL=js_dc85f75f69"
            ]
          },
          "metadata": {}
        },
        {
          "output_type": "display_data",
          "data": {
            "text/plain": [
              "<IPython.core.display.Javascript object>"
            ],
            "application/javascript": [
              "window[\"a3845c26-ab2e-11ed-8356-0242ac1c000c\"] = google.colab.output.getActiveOutputArea();\n",
              "//# sourceURL=js_4162f470f7"
            ]
          },
          "metadata": {}
        },
        {
          "output_type": "display_data",
          "data": {
            "text/plain": [
              "<IPython.core.display.Javascript object>"
            ],
            "application/javascript": [
              "window[\"a384e45c-ab2e-11ed-8356-0242ac1c000c\"] = document.querySelector(\"#id40-0-0\");\n",
              "//# sourceURL=js_6373dd0f76"
            ]
          },
          "metadata": {}
        },
        {
          "output_type": "display_data",
          "data": {
            "text/plain": [
              "<IPython.core.display.Javascript object>"
            ],
            "application/javascript": [
              "window[\"a38549ce-ab2e-11ed-8356-0242ac1c000c\"] = google.colab.output.setActiveOutputArea(window[\"a384e45c-ab2e-11ed-8356-0242ac1c000c\"]);\n",
              "//# sourceURL=js_e0af6bbf31"
            ]
          },
          "metadata": {}
        },
        {
          "output_type": "display_data",
          "data": {
            "text/plain": [
              "<IPython.core.display.Javascript object>"
            ],
            "application/javascript": [
              "window[\"a3a17b12-ab2e-11ed-8356-0242ac1c000c\"] = google.colab.output.setActiveOutputArea(window[\"a3845c26-ab2e-11ed-8356-0242ac1c000c\"]);\n",
              "//# sourceURL=js_4b53bbeb69"
            ]
          },
          "metadata": {}
        },
        {
          "output_type": "display_data",
          "data": {
            "text/plain": [
              "<IPython.core.display.Javascript object>"
            ],
            "application/javascript": [
              "window[\"a4d5a166-ab2e-11ed-8356-0242ac1c000c\"] = google.colab.output.getActiveOutputArea();\n",
              "//# sourceURL=js_261c4ed455"
            ]
          },
          "metadata": {}
        },
        {
          "output_type": "display_data",
          "data": {
            "text/plain": [
              "<IPython.core.display.Javascript object>"
            ],
            "application/javascript": [
              "window[\"a4d5fa08-ab2e-11ed-8356-0242ac1c000c\"] = document.querySelector(\"#id40-0-0\");\n",
              "//# sourceURL=js_ed6ada9a01"
            ]
          },
          "metadata": {}
        },
        {
          "output_type": "display_data",
          "data": {
            "text/plain": [
              "<IPython.core.display.Javascript object>"
            ],
            "application/javascript": [
              "window[\"a4d675e6-ab2e-11ed-8356-0242ac1c000c\"] = google.colab.output.setActiveOutputArea(window[\"a4d5fa08-ab2e-11ed-8356-0242ac1c000c\"]);\n",
              "//# sourceURL=js_60f893f7d2"
            ]
          },
          "metadata": {}
        },
        {
          "output_type": "display_data",
          "data": {
            "text/plain": [
              "<IPython.core.display.Javascript object>"
            ],
            "application/javascript": [
              "window[\"a4f16388-ab2e-11ed-8356-0242ac1c000c\"] = google.colab.output.setActiveOutputArea(window[\"a4d5a166-ab2e-11ed-8356-0242ac1c000c\"]);\n",
              "//# sourceURL=js_5d52bdc964"
            ]
          },
          "metadata": {}
        },
        {
          "output_type": "stream",
          "name": "stdout",
          "text": [
            "ACTION INTENDED VS TAKEN 6 6\n"
          ]
        },
        {
          "output_type": "display_data",
          "data": {
            "text/plain": [
              "<IPython.core.display.Javascript object>"
            ],
            "application/javascript": [
              "window[\"a6268a4e-ab2e-11ed-8356-0242ac1c000c\"] = google.colab.output.getActiveOutputArea();\n",
              "//# sourceURL=js_0cfda2f020"
            ]
          },
          "metadata": {}
        },
        {
          "output_type": "display_data",
          "data": {
            "text/plain": [
              "<IPython.core.display.Javascript object>"
            ],
            "application/javascript": [
              "window[\"a626e566-ab2e-11ed-8356-0242ac1c000c\"] = document.querySelector(\"#id40-0-0\");\n",
              "//# sourceURL=js_0c67153ec8"
            ]
          },
          "metadata": {}
        },
        {
          "output_type": "display_data",
          "data": {
            "text/plain": [
              "<IPython.core.display.Javascript object>"
            ],
            "application/javascript": [
              "window[\"a6275dde-ab2e-11ed-8356-0242ac1c000c\"] = google.colab.output.setActiveOutputArea(window[\"a626e566-ab2e-11ed-8356-0242ac1c000c\"]);\n",
              "//# sourceURL=js_f5bdd9d015"
            ]
          },
          "metadata": {}
        },
        {
          "output_type": "display_data",
          "data": {
            "text/plain": [
              "<IPython.core.display.Javascript object>"
            ],
            "application/javascript": [
              "window[\"a644284c-ab2e-11ed-8356-0242ac1c000c\"] = google.colab.output.setActiveOutputArea(window[\"a6268a4e-ab2e-11ed-8356-0242ac1c000c\"]);\n",
              "//# sourceURL=js_f0f24965e0"
            ]
          },
          "metadata": {}
        },
        {
          "output_type": "display_data",
          "data": {
            "text/plain": [
              "<IPython.core.display.Javascript object>"
            ],
            "application/javascript": [
              "window[\"a7787f1a-ab2e-11ed-8356-0242ac1c000c\"] = google.colab.output.getActiveOutputArea();\n",
              "//# sourceURL=js_b21ad3eaec"
            ]
          },
          "metadata": {}
        },
        {
          "output_type": "display_data",
          "data": {
            "text/plain": [
              "<IPython.core.display.Javascript object>"
            ],
            "application/javascript": [
              "window[\"a7790b24-ab2e-11ed-8356-0242ac1c000c\"] = document.querySelector(\"#id40-0-0\");\n",
              "//# sourceURL=js_928deced2f"
            ]
          },
          "metadata": {}
        },
        {
          "output_type": "display_data",
          "data": {
            "text/plain": [
              "<IPython.core.display.Javascript object>"
            ],
            "application/javascript": [
              "window[\"a7798004-ab2e-11ed-8356-0242ac1c000c\"] = google.colab.output.setActiveOutputArea(window[\"a7790b24-ab2e-11ed-8356-0242ac1c000c\"]);\n",
              "//# sourceURL=js_3fdc14e04d"
            ]
          },
          "metadata": {}
        },
        {
          "output_type": "display_data",
          "data": {
            "text/plain": [
              "<IPython.core.display.Javascript object>"
            ],
            "application/javascript": [
              "window[\"a794321e-ab2e-11ed-8356-0242ac1c000c\"] = google.colab.output.setActiveOutputArea(window[\"a7787f1a-ab2e-11ed-8356-0242ac1c000c\"]);\n",
              "//# sourceURL=js_eaba143c48"
            ]
          },
          "metadata": {}
        },
        {
          "output_type": "display_data",
          "data": {
            "text/plain": [
              "<IPython.core.display.Javascript object>"
            ],
            "application/javascript": [
              "window[\"a8c821b8-ab2e-11ed-8356-0242ac1c000c\"] = google.colab.output.getActiveOutputArea();\n",
              "//# sourceURL=js_2a08304a2c"
            ]
          },
          "metadata": {}
        },
        {
          "output_type": "display_data",
          "data": {
            "text/plain": [
              "<IPython.core.display.Javascript object>"
            ],
            "application/javascript": [
              "window[\"a8c87bea-ab2e-11ed-8356-0242ac1c000c\"] = document.querySelector(\"#id40-0-0\");\n",
              "//# sourceURL=js_0edcad0efc"
            ]
          },
          "metadata": {}
        },
        {
          "output_type": "display_data",
          "data": {
            "text/plain": [
              "<IPython.core.display.Javascript object>"
            ],
            "application/javascript": [
              "window[\"a8c8d4be-ab2e-11ed-8356-0242ac1c000c\"] = google.colab.output.setActiveOutputArea(window[\"a8c87bea-ab2e-11ed-8356-0242ac1c000c\"]);\n",
              "//# sourceURL=js_719e18dba1"
            ]
          },
          "metadata": {}
        },
        {
          "output_type": "display_data",
          "data": {
            "text/plain": [
              "<IPython.core.display.Javascript object>"
            ],
            "application/javascript": [
              "window[\"a8e5bc82-ab2e-11ed-8356-0242ac1c000c\"] = google.colab.output.setActiveOutputArea(window[\"a8c821b8-ab2e-11ed-8356-0242ac1c000c\"]);\n",
              "//# sourceURL=js_f7955293c1"
            ]
          },
          "metadata": {}
        },
        {
          "output_type": "display_data",
          "data": {
            "text/plain": [
              "<IPython.core.display.Javascript object>"
            ],
            "application/javascript": [
              "window[\"aa19e3bc-ab2e-11ed-8356-0242ac1c000c\"] = google.colab.output.getActiveOutputArea();\n",
              "//# sourceURL=js_a36d4ce379"
            ]
          },
          "metadata": {}
        },
        {
          "output_type": "display_data",
          "data": {
            "text/plain": [
              "<IPython.core.display.Javascript object>"
            ],
            "application/javascript": [
              "window[\"aa1a9000-ab2e-11ed-8356-0242ac1c000c\"] = document.querySelector(\"#id40-0-0\");\n",
              "//# sourceURL=js_3a5e2c55de"
            ]
          },
          "metadata": {}
        },
        {
          "output_type": "display_data",
          "data": {
            "text/plain": [
              "<IPython.core.display.Javascript object>"
            ],
            "application/javascript": [
              "window[\"aa1b2fa6-ab2e-11ed-8356-0242ac1c000c\"] = google.colab.output.setActiveOutputArea(window[\"aa1a9000-ab2e-11ed-8356-0242ac1c000c\"]);\n",
              "//# sourceURL=js_4712dfe114"
            ]
          },
          "metadata": {}
        },
        {
          "output_type": "display_data",
          "data": {
            "text/plain": [
              "<IPython.core.display.Javascript object>"
            ],
            "application/javascript": [
              "window[\"aa42e500-ab2e-11ed-8356-0242ac1c000c\"] = google.colab.output.setActiveOutputArea(window[\"aa19e3bc-ab2e-11ed-8356-0242ac1c000c\"]);\n",
              "//# sourceURL=js_346bd6128b"
            ]
          },
          "metadata": {}
        },
        {
          "output_type": "display_data",
          "data": {
            "text/plain": [
              "<IPython.core.display.Javascript object>"
            ],
            "application/javascript": [
              "window[\"ab77a19a-ab2e-11ed-8356-0242ac1c000c\"] = google.colab.output.getActiveOutputArea();\n",
              "//# sourceURL=js_38a1b1562d"
            ]
          },
          "metadata": {}
        },
        {
          "output_type": "display_data",
          "data": {
            "text/plain": [
              "<IPython.core.display.Javascript object>"
            ],
            "application/javascript": [
              "window[\"ab785b08-ab2e-11ed-8356-0242ac1c000c\"] = document.querySelector(\"#id40-0-0\");\n",
              "//# sourceURL=js_37016b4be6"
            ]
          },
          "metadata": {}
        },
        {
          "output_type": "display_data",
          "data": {
            "text/plain": [
              "<IPython.core.display.Javascript object>"
            ],
            "application/javascript": [
              "window[\"ab791098-ab2e-11ed-8356-0242ac1c000c\"] = google.colab.output.setActiveOutputArea(window[\"ab785b08-ab2e-11ed-8356-0242ac1c000c\"]);\n",
              "//# sourceURL=js_675572265a"
            ]
          },
          "metadata": {}
        },
        {
          "output_type": "display_data",
          "data": {
            "text/plain": [
              "<IPython.core.display.Javascript object>"
            ],
            "application/javascript": [
              "window[\"abae13ba-ab2e-11ed-8356-0242ac1c000c\"] = google.colab.output.setActiveOutputArea(window[\"ab77a19a-ab2e-11ed-8356-0242ac1c000c\"]);\n",
              "//# sourceURL=js_05b9de52e9"
            ]
          },
          "metadata": {}
        },
        {
          "output_type": "display_data",
          "data": {
            "text/plain": [
              "<IPython.core.display.Javascript object>"
            ],
            "application/javascript": [
              "window[\"ace1dafa-ab2e-11ed-8356-0242ac1c000c\"] = google.colab.output.getActiveOutputArea();\n",
              "//# sourceURL=js_a10f58f750"
            ]
          },
          "metadata": {}
        },
        {
          "output_type": "display_data",
          "data": {
            "text/plain": [
              "<IPython.core.display.Javascript object>"
            ],
            "application/javascript": [
              "window[\"ace22b72-ab2e-11ed-8356-0242ac1c000c\"] = document.querySelector(\"#id40-0-0\");\n",
              "//# sourceURL=js_43c94baee0"
            ]
          },
          "metadata": {}
        },
        {
          "output_type": "display_data",
          "data": {
            "text/plain": [
              "<IPython.core.display.Javascript object>"
            ],
            "application/javascript": [
              "window[\"ace2a2d2-ab2e-11ed-8356-0242ac1c000c\"] = google.colab.output.setActiveOutputArea(window[\"ace22b72-ab2e-11ed-8356-0242ac1c000c\"]);\n",
              "//# sourceURL=js_156689b549"
            ]
          },
          "metadata": {}
        },
        {
          "output_type": "display_data",
          "data": {
            "text/plain": [
              "<IPython.core.display.Javascript object>"
            ],
            "application/javascript": [
              "window[\"acff9964-ab2e-11ed-8356-0242ac1c000c\"] = google.colab.output.setActiveOutputArea(window[\"ace1dafa-ab2e-11ed-8356-0242ac1c000c\"]);\n",
              "//# sourceURL=js_5b2d850dbd"
            ]
          },
          "metadata": {}
        },
        {
          "output_type": "stream",
          "name": "stdout",
          "text": [
            "ACTION INTENDED VS TAKEN 4 3\n"
          ]
        },
        {
          "output_type": "display_data",
          "data": {
            "text/plain": [
              "<IPython.core.display.Javascript object>"
            ],
            "application/javascript": [
              "window[\"ae33e466-ab2e-11ed-8356-0242ac1c000c\"] = google.colab.output.getActiveOutputArea();\n",
              "//# sourceURL=js_0c0156d8f4"
            ]
          },
          "metadata": {}
        },
        {
          "output_type": "display_data",
          "data": {
            "text/plain": [
              "<IPython.core.display.Javascript object>"
            ],
            "application/javascript": [
              "window[\"ae345fd6-ab2e-11ed-8356-0242ac1c000c\"] = document.querySelector(\"#id40-0-0\");\n",
              "//# sourceURL=js_ac9f84a753"
            ]
          },
          "metadata": {}
        },
        {
          "output_type": "display_data",
          "data": {
            "text/plain": [
              "<IPython.core.display.Javascript object>"
            ],
            "application/javascript": [
              "window[\"ae34aad6-ab2e-11ed-8356-0242ac1c000c\"] = google.colab.output.setActiveOutputArea(window[\"ae345fd6-ab2e-11ed-8356-0242ac1c000c\"]);\n",
              "//# sourceURL=js_d51b9ad76c"
            ]
          },
          "metadata": {}
        },
        {
          "output_type": "display_data",
          "data": {
            "text/plain": [
              "<IPython.core.display.Javascript object>"
            ],
            "application/javascript": [
              "window[\"ae511a36-ab2e-11ed-8356-0242ac1c000c\"] = google.colab.output.setActiveOutputArea(window[\"ae33e466-ab2e-11ed-8356-0242ac1c000c\"]);\n",
              "//# sourceURL=js_d7a8ba3d69"
            ]
          },
          "metadata": {}
        },
        {
          "output_type": "display_data",
          "data": {
            "text/plain": [
              "<IPython.core.display.Javascript object>"
            ],
            "application/javascript": [
              "window[\"af85792e-ab2e-11ed-8356-0242ac1c000c\"] = google.colab.output.getActiveOutputArea();\n",
              "//# sourceURL=js_3183dc85c3"
            ]
          },
          "metadata": {}
        },
        {
          "output_type": "display_data",
          "data": {
            "text/plain": [
              "<IPython.core.display.Javascript object>"
            ],
            "application/javascript": [
              "window[\"af862982-ab2e-11ed-8356-0242ac1c000c\"] = document.querySelector(\"#id40-0-0\");\n",
              "//# sourceURL=js_017293dabc"
            ]
          },
          "metadata": {}
        },
        {
          "output_type": "display_data",
          "data": {
            "text/plain": [
              "<IPython.core.display.Javascript object>"
            ],
            "application/javascript": [
              "window[\"af870636-ab2e-11ed-8356-0242ac1c000c\"] = google.colab.output.setActiveOutputArea(window[\"af862982-ab2e-11ed-8356-0242ac1c000c\"]);\n",
              "//# sourceURL=js_710a58d41e"
            ]
          },
          "metadata": {}
        },
        {
          "output_type": "display_data",
          "data": {
            "text/plain": [
              "<IPython.core.display.Javascript object>"
            ],
            "application/javascript": [
              "window[\"afa30336-ab2e-11ed-8356-0242ac1c000c\"] = google.colab.output.setActiveOutputArea(window[\"af85792e-ab2e-11ed-8356-0242ac1c000c\"]);\n",
              "//# sourceURL=js_d48d7ba86d"
            ]
          },
          "metadata": {}
        },
        {
          "output_type": "stream",
          "name": "stdout",
          "text": [
            "ACTION INTENDED VS TAKEN 3 2\n"
          ]
        },
        {
          "output_type": "display_data",
          "data": {
            "text/plain": [
              "<IPython.core.display.Javascript object>"
            ],
            "application/javascript": [
              "window[\"b0d748a2-ab2e-11ed-8356-0242ac1c000c\"] = google.colab.output.getActiveOutputArea();\n",
              "//# sourceURL=js_4e577fd25c"
            ]
          },
          "metadata": {}
        },
        {
          "output_type": "display_data",
          "data": {
            "text/plain": [
              "<IPython.core.display.Javascript object>"
            ],
            "application/javascript": [
              "window[\"b0d7ee38-ab2e-11ed-8356-0242ac1c000c\"] = document.querySelector(\"#id40-0-0\");\n",
              "//# sourceURL=js_2a0ddc4cf5"
            ]
          },
          "metadata": {}
        },
        {
          "output_type": "display_data",
          "data": {
            "text/plain": [
              "<IPython.core.display.Javascript object>"
            ],
            "application/javascript": [
              "window[\"b0d890fe-ab2e-11ed-8356-0242ac1c000c\"] = google.colab.output.setActiveOutputArea(window[\"b0d7ee38-ab2e-11ed-8356-0242ac1c000c\"]);\n",
              "//# sourceURL=js_a6365213bb"
            ]
          },
          "metadata": {}
        },
        {
          "output_type": "stream",
          "name": "stdout",
          "text": [
            "RENDER STATE \n",
            " [[0.  0.  0.  0. ]\n",
            " [0.  0.  0.  0. ]\n",
            " [0.  0.  0.  0. ]\n",
            " [0.  0.  0.  0.5]]\n",
            "REWARD, OBS: \n",
            " 10 [0.  0.  0.  0.  0.  0.  0.  0.  0.  0.  0.  0.  0.  0.  0.  0.5]\n",
            "TOTAL REWARD: \n",
            " [0, 0, 0, 0, 0, 0, 0, 0, 0, 0, 10, 10] True\n"
          ]
        },
        {
          "output_type": "display_data",
          "data": {
            "text/plain": [
              "<Figure size 432x288 with 1 Axes>"
            ],
            "image/png": "[encoded data removed]"
          },
          "metadata": {
            "needs_background": "light"
          }
        },
        {
          "output_type": "display_data",
          "data": {
            "text/plain": [
              "<IPython.core.display.Javascript object>"
            ],
            "application/javascript": [
              "window[\"b0fe1090-ab2e-11ed-8356-0242ac1c000c\"] = google.colab.output.setActiveOutputArea(window[\"b0d748a2-ab2e-11ed-8356-0242ac1c000c\"]);\n",
              "//# sourceURL=js_97210e1aff"
            ]
          },
          "metadata": {}
        }
      ]
    },
    {
      "cell_type": "code",
      "source": [
        "x = spaces.Discrete(8)\n"
      ],
      "metadata": {
        "id": "wQ5IZQPYMlIG"
      },
      "execution_count": 31,
      "outputs": []
    },
    {
      "cell_type": "code",
      "source": [
        "x.n"
      ],
      "metadata": {
        "colab": {
          "base_uri": "https://localhost:8080/"
        },
        "id": "Jbc9cMIN5kk7",
        "outputId": "a0a5bc16-30dc-4b27-9519-8763cf205a49"
      },
      "execution_count": 32,
      "outputs": [
        {
          "output_type": "execute_result",
          "data": {
            "text/plain": [
              "8"
            ]
          },
          "metadata": {},
          "execution_count": 32
        }
      ]
    },
    {
      "cell_type": "code",
      "source": [
        "np.random.randint(0,x.n)"
      ],
      "metadata": {
        "colab": {
          "base_uri": "https://localhost:8080/"
        },
        "id": "Z62Mxkv07Qjf",
        "outputId": "5b95e1a4-aa33-4270-8ea1-57100d0c5486"
      },
      "execution_count": 47,
      "outputs": [
        {
          "output_type": "execute_result",
          "data": {
            "text/plain": [
              "5"
            ]
          },
          "metadata": {},
          "execution_count": 47
        }
      ]
    },
    {
      "cell_type": "code",
      "source": [],
      "metadata": {
        "id": "O-vECd9s7UHd"
      },
      "execution_count": null,
      "outputs": []
    }
  ]
}